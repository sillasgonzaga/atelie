{
 "cells": [
  {
   "cell_type": "code",
   "execution_count": 1,
   "metadata": {},
   "outputs": [],
   "source": [
    "from openai import OpenAI\n",
    "import base64\n",
    "import requests\n",
    "import os\n",
    "\n",
    "OPEN_AI_KEY = os.getenv(\"OPEN_AI_KEY\")\n",
    "url_main_picture = \"https://i.ibb.co/CsPGccz/outfit.png\"\n",
    "\n",
    "client = OpenAI(api_key=OPEN_AI_KEY)\n",
    "\n",
    "prompt = \"\"\"\n",
    "Quero que você atue como um assistente de designer de moda. \n",
    "Como uma estilista, minhas clientes me mandam roupas inteiras para que as confeccione. \n",
    "Para que eu consiga realizar um orçamento, eu preciso pensar em quais tipos de material e tecido eu vou precisar comprar, pra daí pesquisar os preços e\n",
    "a disponibilidade desses materiais em fornecedores de tecido ou sites de compra e calcular o orçamento. \n",
    "\n",
    "Seu papel é analisar a foto enviada e listar todos os tipos de tecido e suas cores que poderiam ser usados para chegar nessa roupa final, com a mesma cor da foto original. \n",
    "Retorne apenas uma lista, separada por parágrafo, de palavras-chave que eu posso utilizar para buscar o material em sites de fornecedores.\n",
    "\n",
    "Por exemplo: \n",
    "- tecido paetê rosa\n",
    "- tecido tule verde\n",
    "\"\"\"\n",
    "\n"
   ]
  },
  {
   "cell_type": "code",
   "execution_count": 4,
   "metadata": {},
   "outputs": [],
   "source": [
    "def encode_image(image_path):\n",
    "  with open(image_path, \"rb\") as image_file:\n",
    "    return base64.b64encode(image_file.read()).decode('utf-8')\n",
    "\n",
    "image_path = '../imgs/vestido-input.jpeg'\n",
    "base64_image = encode_image(image_path)\n"
   ]
  },
  {
   "cell_type": "code",
   "execution_count": 7,
   "metadata": {},
   "outputs": [],
   "source": [
    "headers = {\n",
    "  \"Content-Type\": \"application/json\",\n",
    "  \"Authorization\": f\"Bearer {OPEN_AI_KEY}\"\n",
    "}\n",
    "\n",
    "payload = {\n",
    "  \"model\": \"gpt-4o-mini\",\n",
    "  \"messages\": [\n",
    "    {\n",
    "      \"role\": \"user\",\n",
    "      \"content\": [\n",
    "        {\n",
    "          \"type\": \"text\",\n",
    "          \"text\": prompt\n",
    "        },\n",
    "        {\n",
    "          \"type\": \"image_url\",\n",
    "          \"image_url\": {\n",
    "            \"url\": f\"data:image/jpeg;base64,{base64_image}\"\n",
    "          }\n",
    "        }\n",
    "      ]\n",
    "    }\n",
    "  ],\n",
    "  \"max_tokens\": 300\n",
    "}\n",
    "\n",
    "response = requests.post(\"https://api.openai.com/v1/chat/completions\", headers=headers, json=payload)\n"
   ]
  },
  {
   "cell_type": "code",
   "execution_count": 8,
   "metadata": {},
   "outputs": [
    {
     "name": "stdout",
     "output_type": "stream",
     "text": [
      "- tecido veludo azul\n",
      "- tecido tule preto\n",
      "- tecido paetê dourado\n",
      "- tecido cetim azul\n",
      "- fita de gorgurão preta\n",
      "- tecido organza preta\n"
     ]
    }
   ],
   "source": [
    "print(response.json()['choices'][0]['message']['content'])"
   ]
  },
  {
   "cell_type": "code",
   "execution_count": null,
   "metadata": {},
   "outputs": [],
   "source": []
  }
 ],
 "metadata": {
  "kernelspec": {
   "display_name": "my_env",
   "language": "python",
   "name": "python3"
  },
  "language_info": {
   "codemirror_mode": {
    "name": "ipython",
    "version": 3
   },
   "file_extension": ".py",
   "mimetype": "text/x-python",
   "name": "python",
   "nbconvert_exporter": "python",
   "pygments_lexer": "ipython3",
   "version": "3.10.12"
  }
 },
 "nbformat": 4,
 "nbformat_minor": 2
}
